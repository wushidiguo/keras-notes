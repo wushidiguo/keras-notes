{
  "nbformat": 4,
  "nbformat_minor": 0,
  "metadata": {
    "colab": {
      "name": "bidirectional_for_imdb.ipynb",
      "provenance": [],
      "collapsed_sections": [],
      "include_colab_link": true
    },
    "kernelspec": {
      "name": "python3",
      "display_name": "Python 3"
    },
    "accelerator": "GPU"
  },
  "cells": [
    {
      "cell_type": "markdown",
      "metadata": {
        "id": "view-in-github",
        "colab_type": "text"
      },
      "source": [
        "<a href=\"https://colab.research.google.com/github/wushidiguo/keras-notes/blob/master/bidirectional_for_imdb.ipynb\" target=\"_parent\"><img src=\"https://colab.research.google.com/assets/colab-badge.svg\" alt=\"Open In Colab\"/></a>"
      ]
    },
    {
      "cell_type": "code",
      "metadata": {
        "id": "02f2Su82KUGk",
        "colab_type": "code",
        "colab": {
          "base_uri": "https://localhost:8080/",
          "height": 897
        },
        "outputId": "10042360-a4d9-443f-f955-3c7ac2a393a0"
      },
      "source": [
        "from keras.datasets import imdb\n",
        "from keras.preprocessing import sequence\n",
        "from keras import layers\n",
        "from keras.models import Sequential\n",
        "\n",
        "max_features = 10000\n",
        "maxlen = 500\n",
        "\n",
        "(x_train, y_train), (x_test, y_test) = imdb.load_data(num_words=max_features)\n",
        "# 将数据颠倒。\n",
        "x_train = [x[::-1] for x in x_train]\n",
        "x_test = [x[::-1] for x in x_test]\n",
        "\n",
        "x_train = sequence.pad_sequences(x_train, maxlen=maxlen)\n",
        "x_test = sequence.pad_sequences(x_test, maxlen=maxlen)\n",
        "\n",
        "model = Sequential()\n",
        "model.add(layers.Embedding(max_features, 128))\n",
        "model.add(layers.LSTM(32))\n",
        "model.add(layers.Dense(1, activation=\"sigmoid\"))\n",
        "\n",
        "model.compile(optimizer=\"rmsprop\", loss=\"binary_crossentropy\", metrics=[\"acc\"])\n",
        "history = model.fit(x_train, y_train, epochs=10, batch_size=128, validation_split=0.2)"
      ],
      "execution_count": 4,
      "outputs": [
        {
          "output_type": "stream",
          "text": [
            "WARNING:tensorflow:From /usr/local/lib/python3.6/dist-packages/keras/backend/tensorflow_backend.py:541: The name tf.placeholder is deprecated. Please use tf.compat.v1.placeholder instead.\n",
            "\n",
            "WARNING:tensorflow:From /usr/local/lib/python3.6/dist-packages/keras/backend/tensorflow_backend.py:4432: The name tf.random_uniform is deprecated. Please use tf.random.uniform instead.\n",
            "\n",
            "WARNING:tensorflow:From /usr/local/lib/python3.6/dist-packages/keras/optimizers.py:793: The name tf.train.Optimizer is deprecated. Please use tf.compat.v1.train.Optimizer instead.\n",
            "\n",
            "WARNING:tensorflow:From /usr/local/lib/python3.6/dist-packages/keras/backend/tensorflow_backend.py:3657: The name tf.log is deprecated. Please use tf.math.log instead.\n",
            "\n",
            "WARNING:tensorflow:From /usr/local/lib/python3.6/dist-packages/tensorflow_core/python/ops/nn_impl.py:183: where (from tensorflow.python.ops.array_ops) is deprecated and will be removed in a future version.\n",
            "Instructions for updating:\n",
            "Use tf.where in 2.0, which has the same broadcast rule as np.where\n",
            "WARNING:tensorflow:From /usr/local/lib/python3.6/dist-packages/keras/backend/tensorflow_backend.py:1033: The name tf.assign_add is deprecated. Please use tf.compat.v1.assign_add instead.\n",
            "\n",
            "WARNING:tensorflow:From /usr/local/lib/python3.6/dist-packages/keras/backend/tensorflow_backend.py:1020: The name tf.assign is deprecated. Please use tf.compat.v1.assign instead.\n",
            "\n",
            "WARNING:tensorflow:From /usr/local/lib/python3.6/dist-packages/keras/backend/tensorflow_backend.py:3005: The name tf.Session is deprecated. Please use tf.compat.v1.Session instead.\n",
            "\n",
            "Train on 20000 samples, validate on 5000 samples\n",
            "Epoch 1/10\n",
            "WARNING:tensorflow:From /usr/local/lib/python3.6/dist-packages/keras/backend/tensorflow_backend.py:190: The name tf.get_default_session is deprecated. Please use tf.compat.v1.get_default_session instead.\n",
            "\n",
            "WARNING:tensorflow:From /usr/local/lib/python3.6/dist-packages/keras/backend/tensorflow_backend.py:197: The name tf.ConfigProto is deprecated. Please use tf.compat.v1.ConfigProto instead.\n",
            "\n",
            "WARNING:tensorflow:From /usr/local/lib/python3.6/dist-packages/keras/backend/tensorflow_backend.py:207: The name tf.global_variables is deprecated. Please use tf.compat.v1.global_variables instead.\n",
            "\n",
            "WARNING:tensorflow:From /usr/local/lib/python3.6/dist-packages/keras/backend/tensorflow_backend.py:216: The name tf.is_variable_initialized is deprecated. Please use tf.compat.v1.is_variable_initialized instead.\n",
            "\n",
            "WARNING:tensorflow:From /usr/local/lib/python3.6/dist-packages/keras/backend/tensorflow_backend.py:223: The name tf.variables_initializer is deprecated. Please use tf.compat.v1.variables_initializer instead.\n",
            "\n",
            "20000/20000 [==============================] - 146s 7ms/step - loss: 0.4895 - acc: 0.7655 - val_loss: 0.4157 - val_acc: 0.8256\n",
            "Epoch 2/10\n",
            "20000/20000 [==============================] - 143s 7ms/step - loss: 0.3093 - acc: 0.8815 - val_loss: 0.4534 - val_acc: 0.8206\n",
            "Epoch 3/10\n",
            "20000/20000 [==============================] - 141s 7ms/step - loss: 0.2677 - acc: 0.9016 - val_loss: 0.3641 - val_acc: 0.8412\n",
            "Epoch 4/10\n",
            "20000/20000 [==============================] - 142s 7ms/step - loss: 0.2196 - acc: 0.9199 - val_loss: 0.4618 - val_acc: 0.8474\n",
            "Epoch 5/10\n",
            "20000/20000 [==============================] - 144s 7ms/step - loss: 0.1915 - acc: 0.9325 - val_loss: 0.4108 - val_acc: 0.8730\n",
            "Epoch 6/10\n",
            "20000/20000 [==============================] - 144s 7ms/step - loss: 0.1776 - acc: 0.9396 - val_loss: 0.3990 - val_acc: 0.8468\n",
            "Epoch 7/10\n",
            "20000/20000 [==============================] - 142s 7ms/step - loss: 0.1518 - acc: 0.9467 - val_loss: 0.5121 - val_acc: 0.7898\n",
            "Epoch 8/10\n",
            "20000/20000 [==============================] - 143s 7ms/step - loss: 0.1432 - acc: 0.9511 - val_loss: 0.4375 - val_acc: 0.8700\n",
            "Epoch 9/10\n",
            "20000/20000 [==============================] - 144s 7ms/step - loss: 0.1306 - acc: 0.9543 - val_loss: 0.4114 - val_acc: 0.8746\n",
            "Epoch 10/10\n",
            "20000/20000 [==============================] - 142s 7ms/step - loss: 0.1194 - acc: 0.9592 - val_loss: 0.4032 - val_acc: 0.8686\n"
          ],
          "name": "stdout"
        }
      ]
    },
    {
      "cell_type": "code",
      "metadata": {
        "id": "wOoPmmHkMu-J",
        "colab_type": "code",
        "colab": {
          "base_uri": "https://localhost:8080/",
          "height": 393
        },
        "outputId": "26a294a0-0803-4c24-d35c-61bc3ce59f32"
      },
      "source": [
        "# bidirectional\n",
        "model = Sequential()\n",
        "model.add(layers.Embedding(max_features, 32))\n",
        "model.add(layers.Bidirectional(layers.LSTM(32)))\n",
        "model.add(layers.Dense(1, activation=\"sigmoid\"))\n",
        "\n",
        "model.compile(optimizer=\"rmsprop\", loss=\"binary_crossentropy\", metrics=[\"acc\"])\n",
        "\n",
        "history  = model.fit(x_train, y_train, epochs=10, batch_size=128, validation_split=0.2)"
      ],
      "execution_count": 5,
      "outputs": [
        {
          "output_type": "stream",
          "text": [
            "Train on 20000 samples, validate on 5000 samples\n",
            "Epoch 1/10\n",
            "20000/20000 [==============================] - 279s 14ms/step - loss: 0.5589 - acc: 0.7142 - val_loss: 0.3698 - val_acc: 0.8618\n",
            "Epoch 2/10\n",
            "20000/20000 [==============================] - 282s 14ms/step - loss: 0.3304 - acc: 0.8756 - val_loss: 0.3190 - val_acc: 0.8810\n",
            "Epoch 3/10\n",
            "20000/20000 [==============================] - 279s 14ms/step - loss: 0.2698 - acc: 0.8991 - val_loss: 0.4341 - val_acc: 0.8436\n",
            "Epoch 4/10\n",
            "20000/20000 [==============================] - 275s 14ms/step - loss: 0.2239 - acc: 0.9208 - val_loss: 0.3004 - val_acc: 0.8884\n",
            "Epoch 5/10\n",
            "20000/20000 [==============================] - 278s 14ms/step - loss: 0.2019 - acc: 0.9273 - val_loss: 0.3023 - val_acc: 0.8846\n",
            "Epoch 6/10\n",
            "20000/20000 [==============================] - 279s 14ms/step - loss: 0.1857 - acc: 0.9334 - val_loss: 0.3404 - val_acc: 0.8556\n",
            "Epoch 7/10\n",
            "20000/20000 [==============================] - 278s 14ms/step - loss: 0.1628 - acc: 0.9434 - val_loss: 0.3856 - val_acc: 0.8744\n",
            "Epoch 8/10\n",
            "20000/20000 [==============================] - 280s 14ms/step - loss: 0.1496 - acc: 0.9487 - val_loss: 0.4827 - val_acc: 0.8554\n",
            "Epoch 9/10\n",
            "20000/20000 [==============================] - 280s 14ms/step - loss: 0.1385 - acc: 0.9526 - val_loss: 0.3616 - val_acc: 0.8866\n",
            "Epoch 10/10\n",
            "20000/20000 [==============================] - 281s 14ms/step - loss: 0.1277 - acc: 0.9565 - val_loss: 0.3790 - val_acc: 0.8820\n"
          ],
          "name": "stdout"
        }
      ]
    },
    {
      "cell_type": "code",
      "metadata": {
        "id": "DQvlJNYKSbjF",
        "colab_type": "code",
        "colab": {}
      },
      "source": [
        ""
      ],
      "execution_count": 0,
      "outputs": []
    }
  ]
}