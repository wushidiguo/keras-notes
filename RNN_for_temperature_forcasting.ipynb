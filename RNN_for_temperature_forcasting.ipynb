{
  "nbformat": 4,
  "nbformat_minor": 0,
  "metadata": {
    "colab": {
      "name": "RNN_for_temperature-forcasting.ipynb",
      "provenance": [],
      "collapsed_sections": [],
      "include_colab_link": true
    },
    "kernelspec": {
      "name": "python3",
      "display_name": "Python 3"
    },
    "accelerator": "GPU"
  },
  "cells": [
    {
      "cell_type": "markdown",
      "metadata": {
        "id": "view-in-github",
        "colab_type": "text"
      },
      "source": [
        "<a href=\"https://colab.research.google.com/github/wushidiguo/keras-notes/blob/master/RNN_for_temperature_forcasting.ipynb\" target=\"_parent\"><img src=\"https://colab.research.google.com/assets/colab-badge.svg\" alt=\"Open In Colab\"/></a>"
      ]
    },
    {
      "cell_type": "code",
      "metadata": {
        "id": "dTMKiaXf1RIF",
        "colab_type": "code",
        "outputId": "9a59c767-f0d9-4bd4-939e-816243aad478",
        "colab": {
          "base_uri": "https://localhost:8080/",
          "height": 209
        }
      },
      "source": [
        "!mkdir jena_climate\n",
        "!cd jena_climate\n",
        "!wget https://s3.amazonaws.com/keras-datasets/jena_climate_2009_2016.csv.zip"
      ],
      "execution_count": 0,
      "outputs": [
        {
          "output_type": "stream",
          "text": [
            "--2019-11-10 00:16:38--  https://s3.amazonaws.com/keras-datasets/jena_climate_2009_2016.csv.zip\n",
            "Resolving s3.amazonaws.com (s3.amazonaws.com)... 52.216.100.69\n",
            "Connecting to s3.amazonaws.com (s3.amazonaws.com)|52.216.100.69|:443... connected.\n",
            "HTTP request sent, awaiting response... 200 OK\n",
            "Length: 13568290 (13M) [application/zip]\n",
            "Saving to: ‘jena_climate_2009_2016.csv.zip’\n",
            "\n",
            "jena_climate_2009_2 100%[===================>]  12.94M  5.47MB/s    in 2.4s    \n",
            "\n",
            "2019-11-10 00:16:47 (5.47 MB/s) - ‘jena_climate_2009_2016.csv.zip’ saved [13568290/13568290]\n",
            "\n"
          ],
          "name": "stdout"
        }
      ]
    },
    {
      "cell_type": "code",
      "metadata": {
        "id": "p4_DYRGX1olX",
        "colab_type": "code",
        "outputId": "3a73ae1a-c65a-4279-f2d8-3d5a3929f77f",
        "colab": {
          "base_uri": "https://localhost:8080/",
          "height": 52
        }
      },
      "source": [
        "!unzip jena_climate_2009_2016.csv.zip"
      ],
      "execution_count": 0,
      "outputs": [
        {
          "output_type": "stream",
          "text": [
            "Archive:  jena_climate_2009_2016.csv.zip\n",
            "  inflating: jena_climate_2009_2016.csv  \n"
          ],
          "name": "stdout"
        }
      ]
    },
    {
      "cell_type": "code",
      "metadata": {
        "id": "DAqBLWUK1z29",
        "colab_type": "code",
        "outputId": "5cde69c4-98fb-4478-ebcb-603495e51da9",
        "colab": {
          "base_uri": "https://localhost:8080/",
          "height": 72
        }
      },
      "source": [
        "import os\n",
        "\n",
        "fname = \"jena_climate_2009_2016.csv\"\n",
        "\n",
        "f =open(fname)\n",
        "data = f.read()\n",
        "f.close()\n",
        "\n",
        "lines = data.split(\"\\n\")\n",
        "header = lines[0].split(\",\")\n",
        "lines = lines[1:]\n",
        "\n",
        "print(header)\n",
        "print(len(lines))"
      ],
      "execution_count": 0,
      "outputs": [
        {
          "output_type": "stream",
          "text": [
            "['\"Date Time\"', '\"p (mbar)\"', '\"T (degC)\"', '\"Tpot (K)\"', '\"Tdew (degC)\"', '\"rh (%)\"', '\"VPmax (mbar)\"', '\"VPact (mbar)\"', '\"VPdef (mbar)\"', '\"sh (g/kg)\"', '\"H2OC (mmol/mol)\"', '\"rho (g/m**3)\"', '\"wv (m/s)\"', '\"max. wv (m/s)\"', '\"wd (deg)\"']\n",
            "420551\n"
          ],
          "name": "stdout"
        }
      ]
    },
    {
      "cell_type": "code",
      "metadata": {
        "id": "2DN3JlBQ206a",
        "colab_type": "code",
        "colab": {}
      },
      "source": [
        "import numpy as np\n",
        "float_data = np.zeros((len(lines), len(header) - 1))\n",
        "for i, line in enumerate(lines):\n",
        "  values = [float(x) for x in line.split(\",\")[1:]]\n",
        "  float_data[i, :] = values"
      ],
      "execution_count": 0,
      "outputs": []
    },
    {
      "cell_type": "code",
      "metadata": {
        "id": "assDXlfj3vMc",
        "colab_type": "code",
        "outputId": "98977f25-6153-48cf-8e0a-b47721d74e12",
        "colab": {
          "base_uri": "https://localhost:8080/",
          "height": 286
        }
      },
      "source": [
        "import matplotlib.pyplot as plt\n",
        "\n",
        "temp = float_data[:, 1] \n",
        "plt.plot(range(len(temp)), temp)"
      ],
      "execution_count": 0,
      "outputs": [
        {
          "output_type": "execute_result",
          "data": {
            "text/plain": [
              "[<matplotlib.lines.Line2D at 0x7f92e259d780>]"
            ]
          },
          "metadata": {
            "tags": []
          },
          "execution_count": 5
        },
        {
          "output_type": "display_data",
          "data": {
            "image/png": "[encoded data removed]",
            "text/plain": [
              "<Figure size 432x288 with 1 Axes>"
            ]
          },
          "metadata": {
            "tags": []
          }
        }
      ]
    },
    {
      "cell_type": "code",
      "metadata": {
        "id": "l_ctkmd84Vh7",
        "colab_type": "code",
        "colab": {}
      },
      "source": [
        "mean = float_data[: 200000].mean(axis=0)\n",
        "float_data -= mean\n",
        "std = float_data[: 200000].std(axis=0)\n",
        "float_data /= std"
      ],
      "execution_count": 0,
      "outputs": []
    },
    {
      "cell_type": "code",
      "metadata": {
        "id": "gPdqonvX_jRF",
        "colab_type": "code",
        "colab": {}
      },
      "source": [
        "def generator(data, lookback, delay, min_index, max_index, shuffle=False, batch_size=128, step=6):\n",
        "  if max_index is None:\n",
        "    max_index = len(data) - delay - 1\n",
        "  i = min_index + lookback\n",
        "  while 1:\n",
        "    if shuffle:\n",
        "      rows = np.random.randint(min_index + lookback, max_index, size=batch_size)\n",
        "    else:\n",
        "      # 取值超过max_index后，进行重置。\n",
        "      if i + batch_size >= max_index:\n",
        "        i = min_index + lookback\n",
        "      rows = np.arange(i, min(i + batch_size, max_index))\n",
        "      i += len(rows)\n",
        "    # (smaples, timesteps, data)\n",
        "    samples = np.zeros((len(rows), lookback // step, data.shape[-1]))\n",
        "    targets = np.zeros((len(rows, )))\n",
        "    for j, row in enumerate(rows):\n",
        "      indices = range(row - lookback, row, step)\n",
        "      samples[j] = data[indices]\n",
        "      targets[j] = data[row + delay][1]\n",
        "    yield samples, targets  "
      ],
      "execution_count": 0,
      "outputs": []
    },
    {
      "cell_type": "code",
      "metadata": {
        "id": "aZG2RxSssjY8",
        "colab_type": "code",
        "colab": {}
      },
      "source": [
        "lookback = 1440\n",
        "step = 6\n",
        "delay = 144\n",
        "batch_size = 128\n",
        "\n",
        "train_gen = generator(float_data, lookback=lookback, delay=delay, min_index=0, max_index=200000, shuffle=True, step=step, batch_size=batch_size)\n",
        "val_gen = generator(float_data, lookback=lookback, delay=delay, min_index=200001, max_index=300000, step=step, batch_size=batch_size)\n",
        "test_gen = generator(float_data, lookback=lookback, delay=delay, min_index=300001, max_index=None, step=step, batch_size=batch_size)\n",
        "\n",
        "val_steps = (300000 - 200001 - lookback) // batch_size\n",
        "test_steps = (len(float_data) - 300001 - lookback) // batch_size"
      ],
      "execution_count": 0,
      "outputs": []
    },
    {
      "cell_type": "code",
      "metadata": {
        "id": "397BUi_ryX6q",
        "colab_type": "code",
        "outputId": "50212c8e-68c6-48f2-b0b7-1c37c521eaa5",
        "colab": {
          "base_uri": "https://localhost:8080/",
          "height": 34
        }
      },
      "source": [
        "# baseline:即预测每天的气温与24小时前相同\n",
        "def evaluate_naive_method():\n",
        "  batch_maes = []\n",
        "  for step in range(val_steps):\n",
        "    samples, targets = next(val_gen)\n",
        "    preds = samples[:, -1, 1]\n",
        "    # mae:mean absolute error\n",
        "    mae = np.mean(np.abs(preds - targets))\n",
        "    batch_maes.append(mae)\n",
        "  print(np.mean(batch_maes))\n",
        "\n",
        "evaluate_naive_method()"
      ],
      "execution_count": 0,
      "outputs": [
        {
          "output_type": "stream",
          "text": [
            "0.2897359729905486\n"
          ],
          "name": "stdout"
        }
      ]
    },
    {
      "cell_type": "code",
      "metadata": {
        "id": "ogf4VPfO1n62",
        "colab_type": "code",
        "outputId": "99a35254-73e7-4c26-a971-68b6271d5b69",
        "colab": {
          "base_uri": "https://localhost:8080/",
          "height": 715
        }
      },
      "source": [
        "from keras.models import Sequential\n",
        "from keras import layers\n",
        "from keras.optimizers import RMSprop\n",
        "\n",
        "model = Sequential()\n",
        "model.add(layers.Flatten(input_shape=(lookback // step, float_data.shape[-1])))\n",
        "model.add(layers.Dense(32, activation=\"relu\"))\n",
        "model.add(layers.Dense(1))\n",
        "\n",
        "model.compile(optimizer=RMSprop(), loss=\"mae\")\n",
        "\n",
        "history = model.fit_generator(train_gen, steps_per_epoch=500, epochs=20, validation_data=val_gen, validation_steps=val_steps)"
      ],
      "execution_count": 0,
      "outputs": [
        {
          "output_type": "stream",
          "text": [
            "Epoch 1/20\n",
            "500/500 [==============================] - 11s 21ms/step - loss: 1.5443 - val_loss: 0.9543\n",
            "Epoch 2/20\n",
            "500/500 [==============================] - 11s 21ms/step - loss: 0.5308 - val_loss: 0.4331\n",
            "Epoch 3/20\n",
            "500/500 [==============================] - 11s 21ms/step - loss: 0.3095 - val_loss: 0.3029\n",
            "Epoch 4/20\n",
            "500/500 [==============================] - 10s 21ms/step - loss: 0.2731 - val_loss: 0.3050\n",
            "Epoch 5/20\n",
            "500/500 [==============================] - 10s 21ms/step - loss: 0.2590 - val_loss: 0.3217\n",
            "Epoch 6/20\n",
            "500/500 [==============================] - 11s 21ms/step - loss: 0.2485 - val_loss: 0.3315\n",
            "Epoch 7/20\n",
            "500/500 [==============================] - 11s 21ms/step - loss: 0.2407 - val_loss: 0.3107\n",
            "Epoch 8/20\n",
            "500/500 [==============================] - 11s 21ms/step - loss: 0.2341 - val_loss: 0.3210\n",
            "Epoch 9/20\n",
            "500/500 [==============================] - 11s 21ms/step - loss: 0.2300 - val_loss: 0.3154\n",
            "Epoch 10/20\n",
            "500/500 [==============================] - 10s 21ms/step - loss: 0.2252 - val_loss: 0.3214\n",
            "Epoch 11/20\n",
            "500/500 [==============================] - 10s 21ms/step - loss: 0.2210 - val_loss: 0.3162\n",
            "Epoch 12/20\n",
            "500/500 [==============================] - 11s 21ms/step - loss: 0.2172 - val_loss: 0.3220\n",
            "Epoch 13/20\n",
            "500/500 [==============================] - 10s 21ms/step - loss: 0.2142 - val_loss: 0.3394\n",
            "Epoch 14/20\n",
            "500/500 [==============================] - 11s 21ms/step - loss: 0.2115 - val_loss: 0.3318\n",
            "Epoch 15/20\n",
            "500/500 [==============================] - 10s 21ms/step - loss: 0.2086 - val_loss: 0.3387\n",
            "Epoch 16/20\n",
            "500/500 [==============================] - 10s 21ms/step - loss: 0.2045 - val_loss: 0.3332\n",
            "Epoch 17/20\n",
            "500/500 [==============================] - 11s 21ms/step - loss: 0.2039 - val_loss: 0.3370\n",
            "Epoch 18/20\n",
            "500/500 [==============================] - 11s 21ms/step - loss: 0.2023 - val_loss: 0.3242\n",
            "Epoch 19/20\n",
            "500/500 [==============================] - 10s 21ms/step - loss: 0.2007 - val_loss: 0.3395\n",
            "Epoch 20/20\n",
            "500/500 [==============================] - 11s 21ms/step - loss: 0.1976 - val_loss: 0.3327\n"
          ],
          "name": "stdout"
        }
      ]
    },
    {
      "cell_type": "code",
      "metadata": {
        "id": "8DQKyeDU5YjN",
        "colab_type": "code",
        "outputId": "27348df5-8179-472f-bd89-9845a02507ac",
        "colab": {
          "base_uri": "https://localhost:8080/",
          "height": 281
        }
      },
      "source": [
        "import matplotlib.pyplot as plt\n",
        "\n",
        "loss = history.history[\"loss\"]\n",
        "val_loss = history.history[\"val_loss\"]\n",
        "\n",
        "epochs = range(1, len(loss) + 1)\n",
        "\n",
        "plt.figure()\n",
        "\n",
        "plt.plot(epochs, loss, \"bo\", label=\"Training loss\")\n",
        "plt.plot(epochs, val_loss, \"b\", label=\"Validation loss\")\n",
        "plt.title(\"Training and validation loss\")\n",
        "plt.legend()\n",
        "\n",
        "plt.show()"
      ],
      "execution_count": 0,
      "outputs": [
        {
          "output_type": "display_data",
          "data": {
            "image/png": "[encoded data removed]",
            "text/plain": [
              "<Figure size 432x288 with 1 Axes>"
            ]
          },
          "metadata": {
            "tags": []
          }
        }
      ]
    },
    {
      "cell_type": "code",
      "metadata": {
        "id": "OLJRs3qwAIz3",
        "colab_type": "code",
        "outputId": "edaf9b3e-5219-4cc4-de64-26c0527d56f7",
        "colab": {
          "base_uri": "https://localhost:8080/",
          "height": 787
        }
      },
      "source": [
        "from keras.models import Sequential\n",
        "from keras import layers\n",
        "from keras.optimizers import RMSprop\n",
        "\n",
        "model = Sequential()\n",
        "model.add(layers.GRU(32, input_shape=(None, float_data.shape[-1])))\n",
        "model.add(layers.Dense(1))\n",
        "\n",
        "model.compile(optimizer=RMSprop(), loss=\"mae\")\n",
        "\n",
        "history = model.fit_generator(train_gen, steps_per_epoch=500, epochs=20, validation_data=val_gen, validation_steps=val_steps)"
      ],
      "execution_count": 0,
      "outputs": [
        {
          "output_type": "stream",
          "text": [
            "WARNING:tensorflow:From /usr/local/lib/python3.6/dist-packages/tensorflow_core/python/ops/math_grad.py:1424: where (from tensorflow.python.ops.array_ops) is deprecated and will be removed in a future version.\n",
            "Instructions for updating:\n",
            "Use tf.where in 2.0, which has the same broadcast rule as np.where\n",
            "Epoch 1/20\n",
            "500/500 [==============================] - 183s 365ms/step - loss: 0.2995 - val_loss: 0.2737\n",
            "Epoch 2/20\n",
            "500/500 [==============================] - 181s 362ms/step - loss: 0.2874 - val_loss: 0.2678\n",
            "Epoch 3/20\n",
            "500/500 [==============================] - 179s 358ms/step - loss: 0.2784 - val_loss: 0.2675\n",
            "Epoch 4/20\n",
            "500/500 [==============================] - 179s 358ms/step - loss: 0.2714 - val_loss: 0.2618\n",
            "Epoch 5/20\n",
            "500/500 [==============================] - 177s 355ms/step - loss: 0.2658 - val_loss: 0.2601\n",
            "Epoch 6/20\n",
            "500/500 [==============================] - 177s 354ms/step - loss: 0.2608 - val_loss: 0.2610\n",
            "Epoch 7/20\n",
            "500/500 [==============================] - 177s 353ms/step - loss: 0.2557 - val_loss: 0.2648\n",
            "Epoch 8/20\n",
            "500/500 [==============================] - 176s 352ms/step - loss: 0.2508 - val_loss: 0.2693\n",
            "Epoch 9/20\n",
            "500/500 [==============================] - 176s 352ms/step - loss: 0.2477 - val_loss: 0.2644\n",
            "Epoch 10/20\n",
            "500/500 [==============================] - 176s 352ms/step - loss: 0.2421 - val_loss: 0.2749\n",
            "Epoch 11/20\n",
            "500/500 [==============================] - 175s 351ms/step - loss: 0.2382 - val_loss: 0.2748\n",
            "Epoch 12/20\n",
            "500/500 [==============================] - 174s 349ms/step - loss: 0.2328 - val_loss: 0.2756\n",
            "Epoch 13/20\n",
            "500/500 [==============================] - 175s 350ms/step - loss: 0.2286 - val_loss: 0.2770\n",
            "Epoch 14/20\n",
            "500/500 [==============================] - 175s 350ms/step - loss: 0.2261 - val_loss: 0.2753\n",
            "Epoch 15/20\n",
            "500/500 [==============================] - 175s 350ms/step - loss: 0.2231 - val_loss: 0.2819\n",
            "Epoch 16/20\n",
            "500/500 [==============================] - 176s 351ms/step - loss: 0.2178 - val_loss: 0.2803\n",
            "Epoch 17/20\n",
            "500/500 [==============================] - 174s 348ms/step - loss: 0.2162 - val_loss: 0.2896\n",
            "Epoch 18/20\n",
            "500/500 [==============================] - 174s 348ms/step - loss: 0.2127 - val_loss: 0.2892\n",
            "Epoch 19/20\n",
            "500/500 [==============================] - 172s 345ms/step - loss: 0.2100 - val_loss: 0.2852\n",
            "Epoch 20/20\n",
            "500/500 [==============================] - 173s 345ms/step - loss: 0.2075 - val_loss: 0.2875\n"
          ],
          "name": "stdout"
        }
      ]
    },
    {
      "cell_type": "code",
      "metadata": {
        "id": "1zYqI8vVErS4",
        "colab_type": "code",
        "outputId": "94577317-d324-4a54-dffd-bb11b835178d",
        "colab": {
          "base_uri": "https://localhost:8080/",
          "height": 281
        }
      },
      "source": [
        "loss = history.history[\"loss\"]\n",
        "val_loss = history.history[\"val_loss\"]\n",
        "\n",
        "epochs = range(1, len(loss) + 1)\n",
        "\n",
        "plt.figure()\n",
        "\n",
        "plt.plot(epochs, loss, \"bo\", label=\"Training loss\")\n",
        "plt.plot(epochs, val_loss, \"b\", label=\"Validation loss\")\n",
        "plt.title(\"Training and validation loss\")\n",
        "plt.legend()\n",
        "\n",
        "plt.show()"
      ],
      "execution_count": 0,
      "outputs": [
        {
          "output_type": "display_data",
          "data": {
            "image/png": "[encoded data removed]",
            "text/plain": [
              "<Figure size 432x288 with 1 Axes>"
            ]
          },
          "metadata": {
            "tags": []
          }
        }
      ]
    },
    {
      "cell_type": "code",
      "metadata": {
        "id": "2W8UThK0SOdj",
        "colab_type": "code",
        "outputId": "1017d6b0-d9a0-4c2d-b0d9-f93200c79ef4",
        "colab": {
          "base_uri": "https://localhost:8080/",
          "height": 1000
        }
      },
      "source": [
        "model = Sequential()\n",
        "model.add(layers.GRU(32, dropout=0.2, recurrent_dropout=0.2, input_shape=(None, float_data.shape[-1])))\n",
        "model.add(layers.Dense(1))\n",
        "model.compile(optimizer=RMSprop(), loss=\"mae\")\n",
        "history = model.fit_generator(train_gen, steps_per_epoch=500, epochs=40, validation_data=val_gen, validation_steps=val_steps)"
      ],
      "execution_count": 0,
      "outputs": [
        {
          "output_type": "stream",
          "text": [
            "WARNING:tensorflow:From /usr/local/lib/python3.6/dist-packages/keras/backend/tensorflow_backend.py:148: The name tf.placeholder_with_default is deprecated. Please use tf.compat.v1.placeholder_with_default instead.\n",
            "\n",
            "WARNING:tensorflow:From /usr/local/lib/python3.6/dist-packages/keras/backend/tensorflow_backend.py:3733: calling dropout (from tensorflow.python.ops.nn_ops) with keep_prob is deprecated and will be removed in a future version.\n",
            "Instructions for updating:\n",
            "Please use `rate` instead of `keep_prob`. Rate should be set to `rate = 1 - keep_prob`.\n",
            "Epoch 1/40\n",
            "500/500 [==============================] - 205s 410ms/step - loss: 0.3396 - val_loss: 0.2764\n",
            "Epoch 2/40\n",
            "500/500 [==============================] - 203s 405ms/step - loss: 0.3159 - val_loss: 0.2727\n",
            "Epoch 3/40\n",
            "500/500 [==============================] - 201s 402ms/step - loss: 0.3089 - val_loss: 0.2732\n",
            "Epoch 4/40\n",
            "500/500 [==============================] - 200s 400ms/step - loss: 0.3047 - val_loss: 0.2714\n",
            "Epoch 5/40\n",
            "500/500 [==============================] - 200s 400ms/step - loss: 0.3031 - val_loss: 0.2673\n",
            "Epoch 6/40\n",
            "500/500 [==============================] - 198s 395ms/step - loss: 0.2990 - val_loss: 0.2689\n",
            "Epoch 7/40\n",
            "500/500 [==============================] - 197s 394ms/step - loss: 0.2970 - val_loss: 0.2648\n",
            "Epoch 8/40\n",
            "500/500 [==============================] - 195s 390ms/step - loss: 0.2954 - val_loss: 0.2684\n",
            "Epoch 9/40\n",
            "500/500 [==============================] - 195s 390ms/step - loss: 0.2937 - val_loss: 0.2638\n",
            "Epoch 10/40\n",
            "500/500 [==============================] - 194s 388ms/step - loss: 0.2923 - val_loss: 0.2690\n",
            "Epoch 11/40\n",
            "500/500 [==============================] - 194s 387ms/step - loss: 0.2921 - val_loss: 0.2677\n",
            "Epoch 12/40\n",
            "500/500 [==============================] - 193s 387ms/step - loss: 0.2893 - val_loss: 0.2676\n",
            "Epoch 13/40\n",
            "500/500 [==============================] - 193s 386ms/step - loss: 0.2871 - val_loss: 0.2676\n",
            "Epoch 14/40\n",
            "500/500 [==============================] - 193s 386ms/step - loss: 0.2861 - val_loss: 0.2657\n",
            "Epoch 15/40\n",
            "500/500 [==============================] - 193s 386ms/step - loss: 0.2881 - val_loss: 0.2656\n",
            "Epoch 16/40\n",
            "500/500 [==============================] - 193s 385ms/step - loss: 0.2840 - val_loss: 0.2683\n",
            "Epoch 17/40\n",
            "500/500 [==============================] - 194s 389ms/step - loss: 0.2835 - val_loss: 0.2650\n",
            "Epoch 18/40\n",
            "500/500 [==============================] - 193s 386ms/step - loss: 0.2830 - val_loss: 0.2624\n",
            "Epoch 19/40\n",
            "500/500 [==============================] - 193s 386ms/step - loss: 0.2819 - val_loss: 0.2724\n",
            "Epoch 20/40\n",
            "500/500 [==============================] - 193s 386ms/step - loss: 0.2804 - val_loss: 0.2729\n",
            "Epoch 21/40\n",
            "500/500 [==============================] - 192s 384ms/step - loss: 0.2794 - val_loss: 0.2644\n",
            "Epoch 22/40\n",
            "500/500 [==============================] - 193s 386ms/step - loss: 0.2796 - val_loss: 0.2718\n",
            "Epoch 23/40\n",
            "500/500 [==============================] - 192s 384ms/step - loss: 0.2803 - val_loss: 0.2725\n",
            "Epoch 24/40\n",
            "500/500 [==============================] - 191s 383ms/step - loss: 0.2763 - val_loss: 0.2638\n",
            "Epoch 25/40\n",
            "500/500 [==============================] - 193s 385ms/step - loss: 0.2759 - val_loss: 0.2714\n",
            "Epoch 26/40\n",
            "500/500 [==============================] - 192s 384ms/step - loss: 0.2768 - val_loss: 0.2667\n",
            "Epoch 27/40\n",
            "500/500 [==============================] - 193s 385ms/step - loss: 0.2759 - val_loss: 0.2728\n",
            "Epoch 28/40\n",
            "500/500 [==============================] - 193s 386ms/step - loss: 0.2764 - val_loss: 0.2652\n",
            "Epoch 29/40\n",
            "500/500 [==============================] - 192s 384ms/step - loss: 0.2756 - val_loss: 0.2671\n",
            "Epoch 30/40\n",
            "500/500 [==============================] - 192s 385ms/step - loss: 0.2725 - val_loss: 0.2777\n",
            "Epoch 31/40\n",
            "500/500 [==============================] - 192s 384ms/step - loss: 0.2744 - val_loss: 0.2687\n",
            "Epoch 32/40\n",
            "500/500 [==============================] - 192s 383ms/step - loss: 0.2746 - val_loss: 0.2670\n",
            "Epoch 33/40\n",
            "500/500 [==============================] - 192s 384ms/step - loss: 0.2733 - val_loss: 0.2685\n",
            "Epoch 34/40\n",
            "500/500 [==============================] - 192s 384ms/step - loss: 0.2744 - val_loss: 0.2753\n",
            "Epoch 35/40\n",
            "500/500 [==============================] - 192s 385ms/step - loss: 0.2711 - val_loss: 0.2655\n",
            "Epoch 36/40\n",
            "500/500 [==============================] - 193s 385ms/step - loss: 0.2728 - val_loss: 0.2652\n",
            "Epoch 37/40\n",
            "500/500 [==============================] - 192s 385ms/step - loss: 0.2730 - val_loss: 0.2660\n",
            "Epoch 38/40\n",
            "500/500 [==============================] - 193s 385ms/step - loss: 0.2701 - val_loss: 0.2679\n",
            "Epoch 39/40\n",
            "500/500 [==============================] - 192s 385ms/step - loss: 0.2687 - val_loss: 0.2637\n",
            "Epoch 40/40\n",
            "500/500 [==============================] - 192s 385ms/step - loss: 0.2698 - val_loss: 0.2672\n"
          ],
          "name": "stdout"
        }
      ]
    },
    {
      "cell_type": "code",
      "metadata": {
        "id": "QJ_P48RyYO4v",
        "colab_type": "code",
        "outputId": "f91c7865-da16-420d-d79e-015763566e5c",
        "colab": {
          "base_uri": "https://localhost:8080/",
          "height": 281
        }
      },
      "source": [
        "loss = history.history[\"loss\"]\n",
        "val_loss = history.history[\"val_loss\"]\n",
        "\n",
        "epochs = range(1, len(loss) + 1)\n",
        "\n",
        "plt.figure()\n",
        "\n",
        "plt.plot(epochs, loss, \"bo\", label=\"Training loss\")\n",
        "plt.plot(epochs, val_loss, \"b\", label=\"Validation loss\")\n",
        "plt.title(\"Training and validation loss\")\n",
        "plt.legend()\n",
        "\n",
        "plt.show()"
      ],
      "execution_count": 0,
      "outputs": [
        {
          "output_type": "display_data",
          "data": {
            "image/png": "[encoded data removed]",
            "text/plain": [
              "<Figure size 432x288 with 1 Axes>"
            ]
          },
          "metadata": {
            "tags": []
          }
        }
      ]
    },
    {
      "cell_type": "code",
      "metadata": {
        "id": "aSFcSsX02LiK",
        "colab_type": "code",
        "outputId": "9bd76af9-8437-4cff-f33b-d4dca5a17a3f",
        "colab": {
          "base_uri": "https://localhost:8080/",
          "height": 238
        }
      },
      "source": [
        "model = Sequential()\n",
        "model.add(layers.GRU(32, dropout=0.1, recurrent_dropout=0.5, return_sequences=True, input_shape=(lookback // step, float_data.shape[-1])))\n",
        "model.add(layers.GRU(64, activation=\"relu\", dropout=0.1, recurrent_dropout=0.5))\n",
        "model.add(layers.Dense(1))\n",
        "\n",
        "model.compile(optimizer=RMSprop(), loss=\"mae\")\n",
        "history = model.fit_generator(train_gen, steps_per_epoch=500, epochs=40, validation_data=val_gen, validation_steps=val_steps)"
      ],
      "execution_count": 0,
      "outputs": [
        {
          "output_type": "error",
          "ename": "NameError",
          "evalue": "ignored",
          "traceback": [
            "\u001b[0;31m---------------------------------------------------------------------------\u001b[0m",
            "\u001b[0;31mNameError\u001b[0m                                 Traceback (most recent call last)",
            "\u001b[0;32m<ipython-input-1-0667ba3c41ac>\u001b[0m in \u001b[0;36m<module>\u001b[0;34m()\u001b[0m\n\u001b[0;32m----> 1\u001b[0;31m \u001b[0mmodel\u001b[0m \u001b[0;34m=\u001b[0m \u001b[0mSequential\u001b[0m\u001b[0;34m(\u001b[0m\u001b[0;34m)\u001b[0m\u001b[0;34m\u001b[0m\u001b[0;34m\u001b[0m\u001b[0m\n\u001b[0m\u001b[1;32m      2\u001b[0m \u001b[0mmodel\u001b[0m\u001b[0;34m.\u001b[0m\u001b[0madd\u001b[0m\u001b[0;34m(\u001b[0m\u001b[0mlayers\u001b[0m\u001b[0;34m.\u001b[0m\u001b[0mGRU\u001b[0m\u001b[0;34m(\u001b[0m\u001b[0;36m32\u001b[0m\u001b[0;34m,\u001b[0m \u001b[0mdropout\u001b[0m\u001b[0;34m=\u001b[0m\u001b[0;36m0.1\u001b[0m\u001b[0;34m,\u001b[0m \u001b[0mrecurrent_dropout\u001b[0m\u001b[0;34m=\u001b[0m\u001b[0;36m0.5\u001b[0m\u001b[0;34m,\u001b[0m \u001b[0mreturn_sequences\u001b[0m\u001b[0;34m=\u001b[0m\u001b[0;32mTrue\u001b[0m\u001b[0;34m,\u001b[0m \u001b[0minput_shape\u001b[0m\u001b[0;34m=\u001b[0m\u001b[0;34m(\u001b[0m\u001b[0mlookback\u001b[0m \u001b[0;34m//\u001b[0m \u001b[0mstep\u001b[0m\u001b[0;34m,\u001b[0m \u001b[0mfloat_data\u001b[0m\u001b[0;34m.\u001b[0m\u001b[0mshape\u001b[0m\u001b[0;34m[\u001b[0m\u001b[0;34m-\u001b[0m\u001b[0;36m1\u001b[0m\u001b[0;34m]\u001b[0m\u001b[0;34m)\u001b[0m\u001b[0;34m)\u001b[0m\u001b[0;34m)\u001b[0m\u001b[0;34m\u001b[0m\u001b[0;34m\u001b[0m\u001b[0m\n\u001b[1;32m      3\u001b[0m \u001b[0mmodel\u001b[0m\u001b[0;34m.\u001b[0m\u001b[0madd\u001b[0m\u001b[0;34m(\u001b[0m\u001b[0mlayers\u001b[0m\u001b[0;34m.\u001b[0m\u001b[0mGRU\u001b[0m\u001b[0;34m(\u001b[0m\u001b[0;36m64\u001b[0m\u001b[0;34m,\u001b[0m \u001b[0mactivation\u001b[0m\u001b[0;34m=\u001b[0m\u001b[0;34m\"relu\"\u001b[0m\u001b[0;34m,\u001b[0m \u001b[0mdropout\u001b[0m\u001b[0;34m=\u001b[0m\u001b[0;36m0.1\u001b[0m\u001b[0;34m,\u001b[0m \u001b[0mrecurrent_dropout\u001b[0m\u001b[0;34m=\u001b[0m\u001b[0;36m0.5\u001b[0m\u001b[0;34m)\u001b[0m\u001b[0;34m)\u001b[0m\u001b[0;34m\u001b[0m\u001b[0;34m\u001b[0m\u001b[0m\n\u001b[1;32m      4\u001b[0m \u001b[0mmodel\u001b[0m\u001b[0;34m.\u001b[0m\u001b[0madd\u001b[0m\u001b[0;34m(\u001b[0m\u001b[0mlayers\u001b[0m\u001b[0;34m.\u001b[0m\u001b[0mDense\u001b[0m\u001b[0;34m(\u001b[0m\u001b[0;36m1\u001b[0m\u001b[0;34m)\u001b[0m\u001b[0;34m)\u001b[0m\u001b[0;34m\u001b[0m\u001b[0;34m\u001b[0m\u001b[0m\n\u001b[1;32m      5\u001b[0m \u001b[0;34m\u001b[0m\u001b[0m\n",
            "\u001b[0;31mNameError\u001b[0m: name 'Sequential' is not defined"
          ]
        }
      ]
    },
    {
      "cell_type": "code",
      "metadata": {
        "id": "2O-z-UgX6UhR",
        "colab_type": "code",
        "colab": {}
      },
      "source": [
        ""
      ],
      "execution_count": 0,
      "outputs": []
    }
  ]
}