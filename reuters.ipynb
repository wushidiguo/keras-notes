{
  "nbformat": 4,
  "nbformat_minor": 0,
  "metadata": {
    "colab": {
      "name": "reuters.ipynb",
      "provenance": [],
      "collapsed_sections": []
    },
    "kernelspec": {
      "name": "python3",
      "display_name": "Python 3"
    },
    "accelerator": "TPU"
  },
  "cells": [
    {
      "cell_type": "code",
      "metadata": {
        "id": "lN4ar0hd-o7f",
        "colab_type": "code",
        "colab": {
          "base_uri": "https://localhost:8080/",
          "height": 50
        },
        "outputId": "6a67e8c4-5125-441e-d270-9c4e1250699e"
      },
      "source": [
        "from keras.datasets import reuters\n",
        "\n",
        "(train_data, train_labels), (test_data, test_labels) = reuters.load_data(num_words=10000)"
      ],
      "execution_count": 2,
      "outputs": [
        {
          "output_type": "stream",
          "text": [
            "Downloading data from https://s3.amazonaws.com/text-datasets/reuters.npz\n",
            "2113536/2110848 [==============================] - 0s 0us/step\n"
          ],
          "name": "stdout"
        }
      ]
    },
    {
      "cell_type": "code",
      "metadata": {
        "id": "lHbhLH7RBPh7",
        "colab_type": "code",
        "colab": {}
      },
      "source": [
        "word_index = reuters.get_word_index()\n",
        "reverse_word_index = dict([(value, key) for (key, value) in word_index.items()])\n",
        "decoded_newswire = \" \".join([reverse_word_index.get(i - 3, \"?\") for i in train_data[0]])"
      ],
      "execution_count": 0,
      "outputs": []
    },
    {
      "cell_type": "code",
      "metadata": {
        "id": "5Fpl3QoHB9Nw",
        "colab_type": "code",
        "colab": {
          "base_uri": "https://localhost:8080/",
          "height": 54
        },
        "outputId": "39e9b20c-b388-4171-f6be-69a66686f997"
      },
      "source": [
        "decoded_newswire"
      ],
      "execution_count": 6,
      "outputs": [
        {
          "output_type": "execute_result",
          "data": {
            "text/plain": [
              "'? ? ? said as a result of its december acquisition of space co it expects earnings per share in 1987 of 1 15 to 1 30 dlrs per share up from 70 cts in 1986 the company said pretax net should rise to nine to 10 mln dlrs from six mln dlrs in 1986 and rental operation revenues to 19 to 22 mln dlrs from 12 5 mln dlrs it said cash flow per share this year should be 2 50 to three dlrs reuter 3'"
            ]
          },
          "metadata": {
            "tags": []
          },
          "execution_count": 6
        }
      ]
    },
    {
      "cell_type": "code",
      "metadata": {
        "id": "bLnyBGypCBMM",
        "colab_type": "code",
        "colab": {}
      },
      "source": [
        "import numpy as np\n",
        "\n",
        "def vectorize_sequence(sequences, dimension=10000):\n",
        "  results = np.zeros((len(sequences), dimension))\n",
        "  for i, sequence in enumerate(sequences):\n",
        "    results[i, sequence] = 1.\n",
        "  return results\n",
        "\n",
        "x_train = vectorize_sequence(train_data)\n",
        "x_test = vectorize_sequence(test_data)"
      ],
      "execution_count": 0,
      "outputs": []
    },
    {
      "cell_type": "code",
      "metadata": {
        "id": "_y-VslicC3Mm",
        "colab_type": "code",
        "colab": {}
      },
      "source": [
        "# 手动one-hot，也可以使用keras.utils.np_utils.to_categorical\n",
        "def to_one_hot(labels, dimension=46):\n",
        "  results = np.zeros((len(labels), dimension))\n",
        "  for (i, label) in enumerate(labels):\n",
        "    results[i, label] = 1\n",
        "  return results\n",
        "\n",
        "one_hot_train_labels = to_one_hot(train_labels)\n",
        "one_hot_test_labels = to_one_hot(test_labels)"
      ],
      "execution_count": 0,
      "outputs": []
    },
    {
      "cell_type": "code",
      "metadata": {
        "id": "OCIAphUCFsBt",
        "colab_type": "code",
        "colab": {
          "base_uri": "https://localhost:8080/",
          "height": 138
        },
        "outputId": "de96de50-0394-449a-da2f-47aa476c1bf9"
      },
      "source": [
        "from keras import models\n",
        "from keras import layers\n",
        "model = models.Sequential()\n",
        "model.add(layers.Dense(64, activation=\"relu\", input_shape=(10000,)))\n",
        "model.add(layers.Dense(64, activation=\"relu\"))\n",
        "model.add(layers.Dense(46, activation=\"softmax\"))"
      ],
      "execution_count": 10,
      "outputs": [
        {
          "output_type": "stream",
          "text": [
            "WARNING:tensorflow:From /usr/local/lib/python3.6/dist-packages/keras/backend/tensorflow_backend.py:66: The name tf.get_default_graph is deprecated. Please use tf.compat.v1.get_default_graph instead.\n",
            "\n",
            "WARNING:tensorflow:From /usr/local/lib/python3.6/dist-packages/keras/backend/tensorflow_backend.py:541: The name tf.placeholder is deprecated. Please use tf.compat.v1.placeholder instead.\n",
            "\n",
            "WARNING:tensorflow:From /usr/local/lib/python3.6/dist-packages/keras/backend/tensorflow_backend.py:4432: The name tf.random_uniform is deprecated. Please use tf.random.uniform instead.\n",
            "\n"
          ],
          "name": "stdout"
        }
      ]
    },
    {
      "cell_type": "code",
      "metadata": {
        "id": "9zwQBcelHfdN",
        "colab_type": "code",
        "colab": {
          "base_uri": "https://localhost:8080/",
          "height": 84
        },
        "outputId": "9cc0c070-5eae-4534-8149-89b98be0d553"
      },
      "source": [
        "model.compile(optimizer=\"rmsprop\", loss=\"categorical_crossentropy\", metrics=[\"accuracy\"])"
      ],
      "execution_count": 12,
      "outputs": [
        {
          "output_type": "stream",
          "text": [
            "WARNING:tensorflow:From /usr/local/lib/python3.6/dist-packages/keras/optimizers.py:793: The name tf.train.Optimizer is deprecated. Please use tf.compat.v1.train.Optimizer instead.\n",
            "\n",
            "WARNING:tensorflow:From /usr/local/lib/python3.6/dist-packages/keras/backend/tensorflow_backend.py:3576: The name tf.log is deprecated. Please use tf.math.log instead.\n",
            "\n"
          ],
          "name": "stdout"
        }
      ]
    },
    {
      "cell_type": "code",
      "metadata": {
        "id": "Gke8R6RhJrFY",
        "colab_type": "code",
        "colab": {}
      },
      "source": [
        "x_val = x_train[:1000]\n",
        "partial_x_train = x_train[1000:]\n",
        "\n",
        "y_val = one_hot_train_labels[:1000]\n",
        "partial_y_train = one_hot_train_labels[1000:]"
      ],
      "execution_count": 0,
      "outputs": []
    },
    {
      "cell_type": "code",
      "metadata": {
        "id": "ve_o3-cPKOVL",
        "colab_type": "code",
        "colab": {
          "base_uri": "https://localhost:8080/",
          "height": 1000
        },
        "outputId": "5160286e-bc74-4f35-a172-7f3f4d868651"
      },
      "source": [
        "history = model.fit(partial_x_train, partial_y_train, batch_size=512, epochs=20, validation_data=[x_val, y_val])"
      ],
      "execution_count": 16,
      "outputs": [
        {
          "output_type": "stream",
          "text": [
            "WARNING:tensorflow:From /usr/local/lib/python3.6/dist-packages/tensorflow_core/python/ops/math_grad.py:1424: where (from tensorflow.python.ops.array_ops) is deprecated and will be removed in a future version.\n",
            "Instructions for updating:\n",
            "Use tf.where in 2.0, which has the same broadcast rule as np.where\n",
            "WARNING:tensorflow:From /usr/local/lib/python3.6/dist-packages/keras/backend/tensorflow_backend.py:1033: The name tf.assign_add is deprecated. Please use tf.compat.v1.assign_add instead.\n",
            "\n",
            "WARNING:tensorflow:From /usr/local/lib/python3.6/dist-packages/keras/backend/tensorflow_backend.py:1020: The name tf.assign is deprecated. Please use tf.compat.v1.assign instead.\n",
            "\n",
            "WARNING:tensorflow:From /usr/local/lib/python3.6/dist-packages/keras/backend/tensorflow_backend.py:3005: The name tf.Session is deprecated. Please use tf.compat.v1.Session instead.\n",
            "\n",
            "Train on 7982 samples, validate on 1000 samples\n",
            "Epoch 1/20\n",
            "WARNING:tensorflow:From /usr/local/lib/python3.6/dist-packages/keras/backend/tensorflow_backend.py:190: The name tf.get_default_session is deprecated. Please use tf.compat.v1.get_default_session instead.\n",
            "\n",
            "WARNING:tensorflow:From /usr/local/lib/python3.6/dist-packages/keras/backend/tensorflow_backend.py:197: The name tf.ConfigProto is deprecated. Please use tf.compat.v1.ConfigProto instead.\n",
            "\n",
            "WARNING:tensorflow:From /usr/local/lib/python3.6/dist-packages/keras/backend/tensorflow_backend.py:207: The name tf.global_variables is deprecated. Please use tf.compat.v1.global_variables instead.\n",
            "\n",
            "WARNING:tensorflow:From /usr/local/lib/python3.6/dist-packages/keras/backend/tensorflow_backend.py:216: The name tf.is_variable_initialized is deprecated. Please use tf.compat.v1.is_variable_initialized instead.\n",
            "\n",
            "WARNING:tensorflow:From /usr/local/lib/python3.6/dist-packages/keras/backend/tensorflow_backend.py:223: The name tf.variables_initializer is deprecated. Please use tf.compat.v1.variables_initializer instead.\n",
            "\n",
            "7982/7982 [==============================] - 2s 239us/step - loss: 2.5891 - acc: 0.5554 - val_loss: 1.6740 - val_acc: 0.6440\n",
            "Epoch 2/20\n",
            "7982/7982 [==============================] - 1s 128us/step - loss: 1.3862 - acc: 0.7212 - val_loss: 1.2804 - val_acc: 0.7210\n",
            "Epoch 3/20\n",
            "7982/7982 [==============================] - 1s 131us/step - loss: 1.0365 - acc: 0.7846 - val_loss: 1.1310 - val_acc: 0.7660\n",
            "Epoch 4/20\n",
            "7982/7982 [==============================] - 1s 132us/step - loss: 0.8151 - acc: 0.8274 - val_loss: 1.0473 - val_acc: 0.7700\n",
            "Epoch 5/20\n",
            "7982/7982 [==============================] - 1s 129us/step - loss: 0.6567 - acc: 0.8604 - val_loss: 1.0108 - val_acc: 0.7790\n",
            "Epoch 6/20\n",
            "7982/7982 [==============================] - 1s 129us/step - loss: 0.5289 - acc: 0.8919 - val_loss: 0.9516 - val_acc: 0.7950\n",
            "Epoch 7/20\n",
            "7982/7982 [==============================] - 1s 130us/step - loss: 0.4306 - acc: 0.9124 - val_loss: 0.9309 - val_acc: 0.8030\n",
            "Epoch 8/20\n",
            "7982/7982 [==============================] - 1s 128us/step - loss: 0.3541 - acc: 0.9252 - val_loss: 0.9037 - val_acc: 0.8190\n",
            "Epoch 9/20\n",
            "7982/7982 [==============================] - 1s 128us/step - loss: 0.2912 - acc: 0.9361 - val_loss: 0.9451 - val_acc: 0.8030\n",
            "Epoch 10/20\n",
            "7982/7982 [==============================] - 1s 128us/step - loss: 0.2493 - acc: 0.9429 - val_loss: 0.9055 - val_acc: 0.8260\n",
            "Epoch 11/20\n",
            "7982/7982 [==============================] - 1s 133us/step - loss: 0.2166 - acc: 0.9484 - val_loss: 0.9291 - val_acc: 0.8150\n",
            "Epoch 12/20\n",
            "7982/7982 [==============================] - 1s 132us/step - loss: 0.1908 - acc: 0.9505 - val_loss: 0.9551 - val_acc: 0.8110\n",
            "Epoch 13/20\n",
            "7982/7982 [==============================] - 1s 130us/step - loss: 0.1742 - acc: 0.9505 - val_loss: 0.9922 - val_acc: 0.8060\n",
            "Epoch 14/20\n",
            "7982/7982 [==============================] - 1s 130us/step - loss: 0.1585 - acc: 0.9548 - val_loss: 1.0038 - val_acc: 0.8000\n",
            "Epoch 15/20\n",
            "7982/7982 [==============================] - 1s 129us/step - loss: 0.1449 - acc: 0.9540 - val_loss: 1.0050 - val_acc: 0.8000\n",
            "Epoch 16/20\n",
            "7982/7982 [==============================] - 1s 131us/step - loss: 0.1379 - acc: 0.9569 - val_loss: 1.0395 - val_acc: 0.7960\n",
            "Epoch 17/20\n",
            "7982/7982 [==============================] - 1s 126us/step - loss: 0.1305 - acc: 0.9574 - val_loss: 1.0484 - val_acc: 0.8040\n",
            "Epoch 18/20\n",
            "7982/7982 [==============================] - 1s 128us/step - loss: 0.1192 - acc: 0.9589 - val_loss: 1.0876 - val_acc: 0.7970\n",
            "Epoch 19/20\n",
            "7982/7982 [==============================] - 1s 131us/step - loss: 0.1207 - acc: 0.9583 - val_loss: 1.0516 - val_acc: 0.8060\n",
            "Epoch 20/20\n",
            "7982/7982 [==============================] - 1s 130us/step - loss: 0.1140 - acc: 0.9590 - val_loss: 1.1006 - val_acc: 0.7900\n"
          ],
          "name": "stdout"
        }
      ]
    },
    {
      "cell_type": "code",
      "metadata": {
        "id": "qhh0Pj2jKgTL",
        "colab_type": "code",
        "colab": {
          "base_uri": "https://localhost:8080/",
          "height": 295
        },
        "outputId": "c6d0489c-f625-425a-d38f-0573360123b4"
      },
      "source": [
        "import matplotlib.pyplot as plt\n",
        "\n",
        "loss = history.history[\"loss\"]\n",
        "val_loss = history.history[\"val_loss\"]\n",
        "\n",
        "epochs = range(1, len(loss) + 1)\n",
        "\n",
        "plt.plot(epochs, loss, \"bo\", label=\"Training loss\")\n",
        "plt.plot(epochs, val_loss, \"b\", label=\"Validation loss\")\n",
        "plt.title(\"Training and validation loss\")\n",
        "plt.xlabel(\"Epochs\")\n",
        "plt.ylabel(\"Loss\")\n",
        "plt.legend()\n",
        "plt.show()"
      ],
      "execution_count": 17,
      "outputs": [
        {
          "output_type": "display_data",
          "data": {
            "image/png": "[encoded data removed]",
            "text/plain": [
              "<Figure size 432x288 with 1 Axes>"
            ]
          },
          "metadata": {
            "tags": []
          }
        }
      ]
    },
    {
      "cell_type": "code",
      "metadata": {
        "id": "Wv7RKOYvLqKu",
        "colab_type": "code",
        "colab": {
          "base_uri": "https://localhost:8080/",
          "height": 295
        },
        "outputId": "b439d2d5-5fca-47a4-8433-c53a95c26043"
      },
      "source": [
        "acc = history.history[\"acc\"]\n",
        "val_acc = history.history[\"val_acc\"]\n",
        "\n",
        "epochs = range(1, len(loss) + 1)\n",
        "\n",
        "plt.plot(epochs, acc, \"bo\", label=\"Training acc\")\n",
        "plt.plot(epochs, val_acc, \"b\", label=\"Validation acc\")\n",
        "plt.title(\"Training and validation acc\")\n",
        "plt.xlabel(\"Epochs\")\n",
        "plt.ylabel(\"acc\")\n",
        "plt.legend()\n",
        "plt.show()"
      ],
      "execution_count": 18,
      "outputs": [
        {
          "output_type": "display_data",
          "data": {
            "image/png": "[encoded data removed]",
            "text/plain": [
              "<Figure size 432x288 with 1 Axes>"
            ]
          },
          "metadata": {
            "tags": []
          }
        }
      ]
    },
    {
      "cell_type": "code",
      "metadata": {
        "id": "lnljluqSMD1K",
        "colab_type": "code",
        "colab": {
          "base_uri": "https://localhost:8080/",
          "height": 336
        },
        "outputId": "ee420ee9-238d-40a0-a963-b694de31058b"
      },
      "source": [
        "# 稍微有点过拟合，进行修正\n",
        "\n",
        "model.fit(x_train, one_hot_train_labels, epochs=9, batch_size=512)\n",
        "results = model.evaluate(x_test, one_hot_test_labels)"
      ],
      "execution_count": 19,
      "outputs": [
        {
          "output_type": "stream",
          "text": [
            "Epoch 1/9\n",
            "8982/8982 [==============================] - 1s 143us/step - loss: 0.2220 - acc: 0.9393\n",
            "Epoch 2/9\n",
            "8982/8982 [==============================] - 1s 121us/step - loss: 0.1705 - acc: 0.9490\n",
            "Epoch 3/9\n",
            "8982/8982 [==============================] - 1s 118us/step - loss: 0.1549 - acc: 0.9496\n",
            "Epoch 4/9\n",
            "8982/8982 [==============================] - 1s 121us/step - loss: 0.1437 - acc: 0.9527\n",
            "Epoch 5/9\n",
            "8982/8982 [==============================] - 1s 116us/step - loss: 0.1349 - acc: 0.9525\n",
            "Epoch 6/9\n",
            "8982/8982 [==============================] - 1s 118us/step - loss: 0.1283 - acc: 0.9537\n",
            "Epoch 7/9\n",
            "8982/8982 [==============================] - 1s 119us/step - loss: 0.1271 - acc: 0.9552\n",
            "Epoch 8/9\n",
            "8982/8982 [==============================] - 1s 117us/step - loss: 0.1251 - acc: 0.9556\n",
            "Epoch 9/9\n",
            "8982/8982 [==============================] - 1s 117us/step - loss: 0.1201 - acc: 0.9554\n",
            "2246/2246 [==============================] - 0s 89us/step\n"
          ],
          "name": "stdout"
        }
      ]
    },
    {
      "cell_type": "code",
      "metadata": {
        "id": "tgrf6ufzM2xc",
        "colab_type": "code",
        "colab": {
          "base_uri": "https://localhost:8080/",
          "height": 34
        },
        "outputId": "08d79f86-0dd8-48eb-c628-672600c8037b"
      },
      "source": [
        "results"
      ],
      "execution_count": 20,
      "outputs": [
        {
          "output_type": "execute_result",
          "data": {
            "text/plain": [
              "[1.327552750189179, 0.7813891362687465]"
            ]
          },
          "metadata": {
            "tags": []
          },
          "execution_count": 20
        }
      ]
    },
    {
      "cell_type": "code",
      "metadata": {
        "id": "I3cGfxluM8GB",
        "colab_type": "code",
        "colab": {
          "base_uri": "https://localhost:8080/",
          "height": 34
        },
        "outputId": "6e8c9bc9-a89c-471c-d13b-0a14dbefbf8e"
      },
      "source": [
        "# 尝试一下随机分配标签\n",
        "test_labels_copy = test_labels.copy()\n",
        "np.random.shuffle(test_labels_copy)\n",
        "hits_array = np.array(test_labels) == np.array(test_labels_copy)\n",
        "np.sum(hits_array) / len(test_labels)"
      ],
      "execution_count": 23,
      "outputs": [
        {
          "output_type": "execute_result",
          "data": {
            "text/plain": [
              "0.17764915405164738"
            ]
          },
          "metadata": {
            "tags": []
          },
          "execution_count": 23
        }
      ]
    },
    {
      "cell_type": "code",
      "metadata": {
        "id": "80fb-wnPOGAl",
        "colab_type": "code",
        "colab": {}
      },
      "source": [
        ""
      ],
      "execution_count": 0,
      "outputs": []
    }
  ]
}