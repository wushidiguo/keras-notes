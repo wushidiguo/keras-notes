{
  "nbformat": 4,
  "nbformat_minor": 0,
  "metadata": {
    "colab": {
      "name": "imdb.ipynb",
      "provenance": [],
      "collapsed_sections": []
    },
    "kernelspec": {
      "name": "python3",
      "display_name": "Python 3"
    }
  },
  "cells": [
    {
      "cell_type": "code",
      "metadata": {
        "id": "JOaEMN02oMkA",
        "colab_type": "code",
        "colab": {
          "base_uri": "https://localhost:8080/",
          "height": 151
        },
        "outputId": "851041de-eca2-4534-b15a-56f5dfc1848c"
      },
      "source": [
        "!pip install keras"
      ],
      "execution_count": 2,
      "outputs": [
        {
          "output_type": "stream",
          "text": [
            "Requirement already satisfied: keras in /usr/local/lib/python3.6/dist-packages (2.2.5)\n",
            "Requirement already satisfied: h5py in /usr/local/lib/python3.6/dist-packages (from keras) (2.8.0)\n",
            "Requirement already satisfied: pyyaml in /usr/local/lib/python3.6/dist-packages (from keras) (3.13)\n",
            "Requirement already satisfied: keras-applications>=1.0.8 in /usr/local/lib/python3.6/dist-packages (from keras) (1.0.8)\n",
            "Requirement already satisfied: numpy>=1.9.1 in /usr/local/lib/python3.6/dist-packages (from keras) (1.16.5)\n",
            "Requirement already satisfied: keras-preprocessing>=1.1.0 in /usr/local/lib/python3.6/dist-packages (from keras) (1.1.0)\n",
            "Requirement already satisfied: scipy>=0.14 in /usr/local/lib/python3.6/dist-packages (from keras) (1.3.1)\n",
            "Requirement already satisfied: six>=1.9.0 in /usr/local/lib/python3.6/dist-packages (from keras) (1.12.0)\n"
          ],
          "name": "stdout"
        }
      ]
    },
    {
      "cell_type": "code",
      "metadata": {
        "id": "vlmYuIzXoXcH",
        "colab_type": "code",
        "colab": {}
      },
      "source": [
        "from keras.datasets import imdb"
      ],
      "execution_count": 0,
      "outputs": []
    },
    {
      "cell_type": "code",
      "metadata": {
        "id": "6IIfE_eLof8C",
        "colab_type": "code",
        "colab": {}
      },
      "source": [
        "# num_words=10000,只保留频率最高的10000词\n",
        "(train_data, train_labels), (test_data, test_labels) = imdb.load_data(num_words=10000)"
      ],
      "execution_count": 0,
      "outputs": []
    },
    {
      "cell_type": "code",
      "metadata": {
        "id": "gkB8CwXTosWl",
        "colab_type": "code",
        "colab": {
          "base_uri": "https://localhost:8080/",
          "height": 34
        },
        "outputId": "84f4161f-842e-47c0-bda8-58cc8cfd059a"
      },
      "source": [
        "# train_data是(25000,)的向量，每个元素是一个长度不等的列表。关于如何创建元素是列表的数组，可以参考https://stackoverflow.com/a/33987165/12003361\n",
        "train_data.shape"
      ],
      "execution_count": 6,
      "outputs": [
        {
          "output_type": "execute_result",
          "data": {
            "text/plain": [
              "(25000,)"
            ]
          },
          "metadata": {
            "tags": []
          },
          "execution_count": 6
        }
      ]
    },
    {
      "cell_type": "code",
      "metadata": {
        "id": "uLwSodKBFCR_",
        "colab_type": "code",
        "colab": {
          "base_uri": "https://localhost:8080/",
          "height": 34
        },
        "outputId": "e5ae02a5-90b4-4d6c-8f85-f4aba6e45d86"
      },
      "source": [
        "# 这里有个陷阱，对于列表数组使用max虽然不会报错，但会返回奇怪的结果。\n",
        "max([max(sequence) for sequence in train_data])"
      ],
      "execution_count": 76,
      "outputs": [
        {
          "output_type": "execute_result",
          "data": {
            "text/plain": [
              "9999"
            ]
          },
          "metadata": {
            "tags": []
          },
          "execution_count": 76
        }
      ]
    },
    {
      "cell_type": "code",
      "metadata": {
        "id": "8-dnC4d8qSPV",
        "colab_type": "code",
        "colab": {}
      },
      "source": [
        "# word_index是一个由词向数字映射的字典\n",
        "word_index = imdb.get_word_index()\n",
        "# 将字典键和值反转，变成数字到词的映射。字典的起始值为1。\n",
        "reverse_word_index = dict([(value, key) for (key, value) in word_index.items()])\n",
        "# train_data的值并不是和字典的index直接对应，而是存在i - 3的关系，train_data中用0，1，2代表无意义或不明确的字符，这些数字（字符）进行转换时会变成\"？\"\n",
        "decode_review = \" \".join([reverse_word_index.get(i - 3, \"?\") for i in train_data[0]])"
      ],
      "execution_count": 0,
      "outputs": []
    },
    {
      "cell_type": "code",
      "metadata": {
        "id": "krz1Y8JWq5zh",
        "colab_type": "code",
        "colab": {
          "base_uri": "https://localhost:8080/",
          "height": 54
        },
        "outputId": "07e9ddf4-6e6e-4598-a024-6787612577b9"
      },
      "source": [
        "decode_review"
      ],
      "execution_count": 18,
      "outputs": [
        {
          "output_type": "execute_result",
          "data": {
            "text/plain": [
              "\"? this film was just brilliant casting location scenery story direction everyone's really suited the part they played and you could just imagine being there robert ? is an amazing actor and now the same being director ? father came from the same scottish island as myself so i loved the fact there was a real connection with this film the witty remarks throughout the film were great it was just brilliant so much that i bought the film as soon as it was released for ? and would recommend it to everyone to watch and the fly fishing was amazing really cried at the end it was so sad and you know what they say if you cry at a film it must have been good and this definitely was also ? to the two little boy's that played the ? of norman and paul they were just brilliant children are often left out of the ? list i think because the stars that play them all grown up are such a big profile for the whole film but these children are amazing and should be praised for what they have done don't you think the whole story was so lovely because it was true and was someone's life after all that was shared with us all\""
            ]
          },
          "metadata": {
            "tags": []
          },
          "execution_count": 18
        }
      ]
    },
    {
      "cell_type": "code",
      "metadata": {
        "id": "GVZ2h6tL4rTZ",
        "colab_type": "code",
        "colab": {
          "base_uri": "https://localhost:8080/",
          "height": 70
        },
        "outputId": "bfd92a98-078d-4de6-cbc5-6e29e5ab6e37"
      },
      "source": [
        "# 手动one-hot\n",
        "import numpy as np\n",
        "\n",
        "def vectorize_sequences(sequences, dimension=10000):\n",
        "  results = np.zeros((len(sequences), dimension))\n",
        "  for i, sequence in enumerate(sequences):\n",
        "    # 注意此处sequence并不是一个数字，而是一个列表。用列表做了一次切片。\n",
        "    results[i, sequence] = 1.\n",
        "  return results\n",
        "\n",
        "x_train = vectorize_sequences(train_data)\n",
        "x_test = vectorize_sequences(test_data)"
      ],
      "execution_count": 33,
      "outputs": [
        {
          "output_type": "stream",
          "text": [
            "[1, 17, 6, 194, 337, 7, 4, 204, 22, 45, 254, 8, 106, 14, 123, 4, 2, 270, 2, 5, 2, 2, 732, 2098, 101, 405, 39, 14, 1034, 4, 1310, 9, 115, 50, 305, 12, 47, 4, 168, 5, 235, 7, 38, 111, 699, 102, 7, 4, 4039, 9245, 9, 24, 6, 78, 1099, 17, 2345, 2, 21, 27, 9685, 6139, 5, 2, 1603, 92, 1183, 4, 1310, 7, 4, 204, 42, 97, 90, 35, 221, 109, 29, 127, 27, 118, 8, 97, 12, 157, 21, 6789, 2, 9, 6, 66, 78, 1099, 4, 631, 1191, 5, 2642, 272, 191, 1070, 6, 7585, 8, 2197, 2, 2, 544, 5, 383, 1271, 848, 1468, 2, 497, 2, 8, 1597, 8778, 2, 21, 60, 27, 239, 9, 43, 8368, 209, 405, 10, 10, 12, 764, 40, 4, 248, 20, 12, 16, 5, 174, 1791, 72, 7, 51, 6, 1739, 22, 4, 204, 131, 9]\n",
            "[1, 6, 52, 7465, 430, 22, 9, 220, 2594, 8, 28, 2, 519, 3227, 6, 769, 15, 47, 6, 3482, 4067, 8, 114, 5, 33, 222, 31, 55, 184, 704, 5586, 2, 19, 346, 3153, 5, 6, 364, 350, 4, 184, 5586, 9, 133, 1810, 11, 5417, 2, 21, 4, 7298, 2, 570, 50, 2005, 2643, 9, 6, 1249, 17, 6, 2, 2, 21, 17, 6, 1211, 232, 1138, 2249, 29, 266, 56, 96, 346, 194, 308, 9, 194, 21, 29, 218, 1078, 19, 4, 78, 173, 7, 27, 2, 5698, 3406, 718, 2, 9, 6, 6907, 17, 210, 5, 3281, 5677, 47, 77, 395, 14, 172, 173, 18, 2740, 2931, 4517, 82, 127, 27, 173, 11, 6, 392, 217, 21, 50, 9, 57, 65, 12, 2, 53, 40, 35, 390, 7, 11, 4, 3567, 7, 4, 314, 74, 6, 792, 22, 2, 19, 714, 727, 5205, 382, 4, 91, 6533, 439, 19, 14, 20, 9, 1441, 5805, 1118, 4, 756, 25, 124, 4, 31, 12, 16, 93, 804, 34, 2005, 2643]\n"
          ],
          "name": "stdout"
        }
      ]
    },
    {
      "cell_type": "code",
      "metadata": {
        "id": "LuvQ4beTB5gP",
        "colab_type": "code",
        "colab": {}
      },
      "source": [
        "y_train = train_labels.astype(\"float32\")\n",
        "y_test = test_labels.astype(\"float32\")"
      ],
      "execution_count": 0,
      "outputs": []
    },
    {
      "cell_type": "code",
      "metadata": {
        "id": "bmexWjuuHDi5",
        "colab_type": "code",
        "colab": {
          "base_uri": "https://localhost:8080/",
          "height": 138
        },
        "outputId": "68d232a1-5e78-42a5-e66e-3e5014f465e5"
      },
      "source": [
        "from keras import models\n",
        "from keras import layers\n",
        "\n",
        "model = models.Sequential()\n",
        "# 如果把batch_size放在input_shape里，你就是个傻子。\n",
        "model.add(layers.Dense(16, activation=\"relu\", input_shape=(10000,)))\n",
        "model.add(layers.Dense(16, activation=\"relu\"))\n",
        "# 输出层的神经元只有一个，并且激活函数用sigmoid，结果可以解释为概率。\n",
        "model.add(layers.Dense(1, activation=\"sigmoid\"))"
      ],
      "execution_count": 85,
      "outputs": [
        {
          "output_type": "stream",
          "text": [
            "WARNING:tensorflow:From /usr/local/lib/python3.6/dist-packages/keras/backend/tensorflow_backend.py:66: The name tf.get_default_graph is deprecated. Please use tf.compat.v1.get_default_graph instead.\n",
            "\n",
            "WARNING:tensorflow:From /usr/local/lib/python3.6/dist-packages/keras/backend/tensorflow_backend.py:541: The name tf.placeholder is deprecated. Please use tf.compat.v1.placeholder instead.\n",
            "\n",
            "WARNING:tensorflow:From /usr/local/lib/python3.6/dist-packages/keras/backend/tensorflow_backend.py:4432: The name tf.random_uniform is deprecated. Please use tf.random.uniform instead.\n",
            "\n"
          ],
          "name": "stdout"
        }
      ]
    },
    {
      "cell_type": "code",
      "metadata": {
        "id": "9wNCdX6WK0Fu",
        "colab_type": "code",
        "colab": {
          "base_uri": "https://localhost:8080/",
          "height": 121
        },
        "outputId": "56c7bc33-80ee-48ac-8bce-c4c71197bbc4"
      },
      "source": [
        "model.compile(optimizer=\"rmsprop\", loss=\"binary_crossentropy\", metrics=[\"accuracy\"])"
      ],
      "execution_count": 87,
      "outputs": [
        {
          "output_type": "stream",
          "text": [
            "WARNING:tensorflow:From /usr/local/lib/python3.6/dist-packages/keras/backend/tensorflow_backend.py:3657: The name tf.log is deprecated. Please use tf.math.log instead.\n",
            "\n",
            "WARNING:tensorflow:From /usr/local/lib/python3.6/dist-packages/tensorflow_core/python/ops/nn_impl.py:183: where (from tensorflow.python.ops.array_ops) is deprecated and will be removed in a future version.\n",
            "Instructions for updating:\n",
            "Use tf.where in 2.0, which has the same broadcast rule as np.where\n"
          ],
          "name": "stdout"
        }
      ]
    },
    {
      "cell_type": "code",
      "metadata": {
        "id": "1Sbh_i_mLqbx",
        "colab_type": "code",
        "colab": {}
      },
      "source": [
        "x_val = x_train[:10000]\n",
        "partial_x_train = x_train[10000:]\n",
        "y_val = y_train[:10000]\n",
        "partial_y_train = y_train[10000:]"
      ],
      "execution_count": 0,
      "outputs": []
    },
    {
      "cell_type": "code",
      "metadata": {
        "id": "kPRDj9hgM5TT",
        "colab_type": "code",
        "colab": {
          "base_uri": "https://localhost:8080/",
          "height": 994
        },
        "outputId": "c8da9fc9-5a03-4eb5-a546-6462de305054"
      },
      "source": [
        "# keara.fit()的返回值是history object。程序会在每个epoch的结束，计算validation数据的loss和accuracy。\n",
        "history = model.fit(partial_x_train, partial_y_train, epochs=20, batch_size=512, validation_data=(x_val, y_val))"
      ],
      "execution_count": 90,
      "outputs": [
        {
          "output_type": "stream",
          "text": [
            "WARNING:tensorflow:From /usr/local/lib/python3.6/dist-packages/keras/backend/tensorflow_backend.py:1033: The name tf.assign_add is deprecated. Please use tf.compat.v1.assign_add instead.\n",
            "\n",
            "WARNING:tensorflow:From /usr/local/lib/python3.6/dist-packages/keras/backend/tensorflow_backend.py:1020: The name tf.assign is deprecated. Please use tf.compat.v1.assign instead.\n",
            "\n",
            "WARNING:tensorflow:From /usr/local/lib/python3.6/dist-packages/keras/backend/tensorflow_backend.py:3005: The name tf.Session is deprecated. Please use tf.compat.v1.Session instead.\n",
            "\n",
            "Train on 15000 samples, validate on 10000 samples\n",
            "Epoch 1/20\n",
            "WARNING:tensorflow:From /usr/local/lib/python3.6/dist-packages/keras/backend/tensorflow_backend.py:190: The name tf.get_default_session is deprecated. Please use tf.compat.v1.get_default_session instead.\n",
            "\n",
            "WARNING:tensorflow:From /usr/local/lib/python3.6/dist-packages/keras/backend/tensorflow_backend.py:197: The name tf.ConfigProto is deprecated. Please use tf.compat.v1.ConfigProto instead.\n",
            "\n",
            "WARNING:tensorflow:From /usr/local/lib/python3.6/dist-packages/keras/backend/tensorflow_backend.py:207: The name tf.global_variables is deprecated. Please use tf.compat.v1.global_variables instead.\n",
            "\n",
            "WARNING:tensorflow:From /usr/local/lib/python3.6/dist-packages/keras/backend/tensorflow_backend.py:216: The name tf.is_variable_initialized is deprecated. Please use tf.compat.v1.is_variable_initialized instead.\n",
            "\n",
            "WARNING:tensorflow:From /usr/local/lib/python3.6/dist-packages/keras/backend/tensorflow_backend.py:223: The name tf.variables_initializer is deprecated. Please use tf.compat.v1.variables_initializer instead.\n",
            "\n",
            "15000/15000 [==============================] - 3s 220us/step - loss: 0.5102 - acc: 0.7969 - val_loss: 0.3990 - val_acc: 0.8582\n",
            "Epoch 2/20\n",
            "15000/15000 [==============================] - 2s 155us/step - loss: 0.3112 - acc: 0.8984 - val_loss: 0.3043 - val_acc: 0.8882\n",
            "Epoch 3/20\n",
            "15000/15000 [==============================] - 2s 164us/step - loss: 0.2202 - acc: 0.9283 - val_loss: 0.2772 - val_acc: 0.8907\n",
            "Epoch 4/20\n",
            "15000/15000 [==============================] - 2s 158us/step - loss: 0.1715 - acc: 0.9423 - val_loss: 0.2783 - val_acc: 0.8882\n",
            "Epoch 5/20\n",
            "15000/15000 [==============================] - 2s 159us/step - loss: 0.1388 - acc: 0.9537 - val_loss: 0.3266 - val_acc: 0.8743\n",
            "Epoch 6/20\n",
            "15000/15000 [==============================] - 2s 160us/step - loss: 0.1126 - acc: 0.9655 - val_loss: 0.3109 - val_acc: 0.8802\n",
            "Epoch 7/20\n",
            "15000/15000 [==============================] - 2s 158us/step - loss: 0.0901 - acc: 0.9730 - val_loss: 0.3206 - val_acc: 0.8843\n",
            "Epoch 8/20\n",
            "15000/15000 [==============================] - 2s 158us/step - loss: 0.0769 - acc: 0.9776 - val_loss: 0.3404 - val_acc: 0.8780\n",
            "Epoch 9/20\n",
            "15000/15000 [==============================] - 2s 158us/step - loss: 0.0628 - acc: 0.9827 - val_loss: 0.3915 - val_acc: 0.8727\n",
            "Epoch 10/20\n",
            "15000/15000 [==============================] - 2s 157us/step - loss: 0.0524 - acc: 0.9868 - val_loss: 0.3881 - val_acc: 0.8764\n",
            "Epoch 11/20\n",
            "15000/15000 [==============================] - 2s 156us/step - loss: 0.0461 - acc: 0.9887 - val_loss: 0.4168 - val_acc: 0.8745\n",
            "Epoch 12/20\n",
            "15000/15000 [==============================] - 2s 153us/step - loss: 0.0367 - acc: 0.9911 - val_loss: 0.4329 - val_acc: 0.8758\n",
            "Epoch 13/20\n",
            "15000/15000 [==============================] - 2s 148us/step - loss: 0.0253 - acc: 0.9965 - val_loss: 0.4626 - val_acc: 0.8734\n",
            "Epoch 14/20\n",
            "15000/15000 [==============================] - 2s 148us/step - loss: 0.0266 - acc: 0.9946 - val_loss: 0.4911 - val_acc: 0.8728\n",
            "Epoch 15/20\n",
            "15000/15000 [==============================] - 2s 147us/step - loss: 0.0194 - acc: 0.9967 - val_loss: 0.5205 - val_acc: 0.8687\n",
            "Epoch 16/20\n",
            "15000/15000 [==============================] - 2s 147us/step - loss: 0.0115 - acc: 0.9993 - val_loss: 0.5817 - val_acc: 0.8651\n",
            "Epoch 17/20\n",
            "15000/15000 [==============================] - 2s 145us/step - loss: 0.0128 - acc: 0.9982 - val_loss: 0.5997 - val_acc: 0.8664\n",
            "Epoch 18/20\n",
            "15000/15000 [==============================] - 2s 145us/step - loss: 0.0113 - acc: 0.9982 - val_loss: 0.6212 - val_acc: 0.8654\n",
            "Epoch 19/20\n",
            "15000/15000 [==============================] - 2s 146us/step - loss: 0.0054 - acc: 0.9999 - val_loss: 0.6940 - val_acc: 0.8581\n",
            "Epoch 20/20\n",
            "15000/15000 [==============================] - 2s 144us/step - loss: 0.0094 - acc: 0.9983 - val_loss: 0.6763 - val_acc: 0.8649\n"
          ],
          "name": "stdout"
        }
      ]
    },
    {
      "cell_type": "code",
      "metadata": {
        "id": "E764sPIfNd2L",
        "colab_type": "code",
        "colab": {
          "base_uri": "https://localhost:8080/",
          "height": 34
        },
        "outputId": "d4f263bd-4ad2-43f7-bb58-c33a2b71805f"
      },
      "source": [
        "# history.history是一个字典，记录了每个epoch结束时的各项数据。\n",
        "history_dict = history.history\n",
        "history_dict.keys()"
      ],
      "execution_count": 91,
      "outputs": [
        {
          "output_type": "execute_result",
          "data": {
            "text/plain": [
              "dict_keys(['val_loss', 'val_acc', 'loss', 'acc'])"
            ]
          },
          "metadata": {
            "tags": []
          },
          "execution_count": 91
        }
      ]
    },
    {
      "cell_type": "code",
      "metadata": {
        "id": "TTzjaFAOPRIi",
        "colab_type": "code",
        "colab": {
          "base_uri": "https://localhost:8080/",
          "height": 295
        },
        "outputId": "23b5a661-eaf7-4f39-93aa-bc61f61449cd"
      },
      "source": [
        "import matplotlib.pyplot as plt\n",
        "\n",
        "loss_values = history_dict[\"loss\"]\n",
        "val_loss_values = history_dict[\"val_loss\"]\n",
        "\n",
        "epochs = range(1, len(loss_values) + 1)\n",
        "\n",
        "# \"bo\"-->blue dot \"b\"-->blue line\n",
        "plt.plot(epochs, loss_values, \"bo\", label=\"Training loss\")\n",
        "plt.plot(epochs, val_loss_values, \"b\", label=\"Validation loss\")\n",
        "plt.title(\"Training and validation loss\")\n",
        "plt.xlabel(\"Epochs\")\n",
        "plt.ylabel(\"Loss\")\n",
        "plt.legend()\n",
        "\n",
        "plt.show()"
      ],
      "execution_count": 94,
      "outputs": [
        {
          "output_type": "display_data",
          "data": {
            "image/png": "[encoded data removed]",
            "text/plain": [
              "<Figure size 432x288 with 1 Axes>"
            ]
          },
          "metadata": {
            "tags": []
          }
        }
      ]
    },
    {
      "cell_type": "code",
      "metadata": {
        "id": "5_xz9K9sQeeL",
        "colab_type": "code",
        "colab": {
          "base_uri": "https://localhost:8080/",
          "height": 295
        },
        "outputId": "3ab3a3c9-93bf-4a50-dd94-f59e1cd4f13a"
      },
      "source": [
        "# 清楚当前图片\n",
        "plt.clf()\n",
        "acc_values = history_dict[\"acc\"]\n",
        "val_acc_values = history_dict[\"val_acc\"]\n",
        "\n",
        "plt.plot(epochs, acc_values, \"bo\", label=\"Training acc\")\n",
        "plt.plot(epochs, val_acc_values, \"b\", label=\"Validation acc\")\n",
        "plt.title(\"Training and validation accuracy\")\n",
        "plt.xlabel(\"Epochs\")\n",
        "plt.ylabel(\"Accuracy\")\n",
        "plt.legend()\n",
        "\n",
        "plt.show()"
      ],
      "execution_count": 95,
      "outputs": [
        {
          "output_type": "display_data",
          "data": {
            "image/png": "[encoded data removed]",
            "text/plain": [
              "<Figure size 432x288 with 1 Axes>"
            ]
          },
          "metadata": {
            "tags": []
          }
        }
      ]
    },
    {
      "cell_type": "code",
      "metadata": {
        "id": "B_IvV-fkTP_C",
        "colab_type": "code",
        "colab": {
          "base_uri": "https://localhost:8080/",
          "height": 134
        },
        "outputId": "72ed609d-dda3-4dfc-83e2-555199037fb6"
      },
      "source": [
        "# 模型在2rd epoch之后就开始有明显的过拟合倾向。调整epochs的值。\n",
        "model.fit(x_train, y_train, epochs=3, batch_size=512)\n",
        "results = model.evaluate(x_test, y_test)"
      ],
      "execution_count": 98,
      "outputs": [
        {
          "output_type": "stream",
          "text": [
            "Epoch 1/3\n",
            "25000/25000 [==============================] - 3s 106us/step - loss: 0.0636 - acc: 0.9818\n",
            "Epoch 2/3\n",
            "25000/25000 [==============================] - 3s 106us/step - loss: 0.0524 - acc: 0.9851\n",
            "Epoch 3/3\n",
            "25000/25000 [==============================] - 3s 104us/step - loss: 0.0398 - acc: 0.9893\n",
            "25000/25000 [==============================] - 3s 102us/step\n"
          ],
          "name": "stdout"
        }
      ]
    },
    {
      "cell_type": "code",
      "metadata": {
        "id": "T8TxXzYuT9Cn",
        "colab_type": "code",
        "colab": {
          "base_uri": "https://localhost:8080/",
          "height": 34
        },
        "outputId": "aad7bfc1-0bed-4398-dcfc-00eac71a832c"
      },
      "source": [
        "results"
      ],
      "execution_count": 99,
      "outputs": [
        {
          "output_type": "execute_result",
          "data": {
            "text/plain": [
              "[0.6586969258594513, 0.85252]"
            ]
          },
          "metadata": {
            "tags": []
          },
          "execution_count": 99
        }
      ]
    },
    {
      "cell_type": "code",
      "metadata": {
        "id": "kWPk4Q7pUVV0",
        "colab_type": "code",
        "colab": {}
      },
      "source": [
        ""
      ],
      "execution_count": 0,
      "outputs": []
    }
  ]
}